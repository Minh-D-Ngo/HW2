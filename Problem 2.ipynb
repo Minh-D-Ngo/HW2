{
 "cells": [
  {
   "cell_type": "code",
   "execution_count": 2,
   "id": "1a23d632",
   "metadata": {},
   "outputs": [],
   "source": [
    "# Function rotate(s: String) -> String:\n",
    "#  Initialize rotations as an empty list\n",
    "#  Initialize n as the length of s\n",
    "#\n",
    "#  For i from 1 to n inclusive:\n",
    "#    rotated = concatenate the substring of s from index i to the end with the substring of s from the start to index i\n",
    "#    Append rotated to rotations\n",
    "# \n",
    "#  Return the elements of rotations joined by spaces\n",
    "#\n",
    "# Main Program:\n",
    "#  Read integer t from input\n",
    "#  For each test case from 1 to t:\n",
    "#    Read string s from input\n",
    "#    Print the result of rotate(s)"
   ]
  },
  {
   "cell_type": "code",
   "execution_count": null,
   "id": "4c2db364",
   "metadata": {},
   "outputs": [],
   "source": []
  }
 ],
 "metadata": {
  "kernelspec": {
   "display_name": "Python 3 (ipykernel)",
   "language": "python",
   "name": "python3"
  },
  "language_info": {
   "codemirror_mode": {
    "name": "ipython",
    "version": 3
   },
   "file_extension": ".py",
   "mimetype": "text/x-python",
   "name": "python",
   "nbconvert_exporter": "python",
   "pygments_lexer": "ipython3",
   "version": "3.11.4"
  }
 },
 "nbformat": 4,
 "nbformat_minor": 5
}
